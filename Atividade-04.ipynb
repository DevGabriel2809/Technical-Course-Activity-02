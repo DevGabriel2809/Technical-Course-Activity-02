{
  "cells": [
    {
      "cell_type": "code",
      "source": [
        "# 1 - Importe o módulo statistics e crie uma lista com 14 elementos em ordem crescente\n",
        "import statistics\n",
        "\n",
        "dados = [10, 12, 14, 16, 18, 20, 22, 24, 26, 28, 30, 32, 34, 36]\n",
        "\n",
        "# 2 - Calcule a média e a mediana dos valores usando o módulo completo\n",
        "media = statistics.mean(dados)\n",
        "mediana = statistics.median(dados)\n",
        "print(\"2 - Usando módulo completo:\")\n",
        "print(\"Média:\", media)\n",
        "print(\"Mediana:\", mediana)\n",
        "\n",
        "# 3 - Use um alias (apelido) para o módulo statistics e refaça os cálculos\n",
        "import statistics as st\n",
        "\n",
        "media_alias = st.mean(dados)\n",
        "mediana_alias = st.median(dados)\n",
        "print(\"\\n3 - Usando alias 'st':\")\n",
        "print(\"Média:\", media_alias)\n",
        "print(\"Mediana:\", mediana_alias)\n",
        "\n",
        "# 4 - Importe apenas as funções mean e median do módulo statistics e refaça os cálculos\n",
        "from statistics import mean, median\n",
        "\n",
        "media_direct = mean(dados)\n",
        "mediana_direct = median(dados)\n",
        "print(\"\\n4 - Importando funções diretamente:\")\n",
        "print(\"Média:\", media_direct)\n",
        "print(\"Mediana:\", mediana_direct)\n",
        "\n",
        "# 5 - Importe todas as funções do módulo statistics e calcule novamente\n",
        "from statistics import *\n",
        "\n",
        "media_all = mean(dados)\n",
        "mediana_all = median(dados)\n",
        "print(\"\\n5 - Importando todas as funções (*):\")\n",
        "print(\"Média:\", media_all)\n",
        "print(\"Mediana:\", mediana_all)\n"
      ],
      "metadata": {
        "id": "uZcuULre9d0A"
      },
      "execution_count": null,
      "outputs": []
    }
  ],
  "metadata": {
    "colab": {
      "name": "Conheça o Colab",
      "provenance": []
    },
    "kernelspec": {
      "display_name": "Python 3",
      "name": "python3"
    }
  },
  "nbformat": 4,
  "nbformat_minor": 0
}