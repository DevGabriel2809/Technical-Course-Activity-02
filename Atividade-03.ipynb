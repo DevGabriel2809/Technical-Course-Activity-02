{
  "cells": [
    {
      "cell_type": "code",
      "source": [
        "# Dicionário com as notas de alguns alunos\n",
        "notas = {'Teo': 8.5, 'Cristiano': 8.9, 'Matson': 7.7}\n",
        "\n",
        "# 1 - Exiba a nota do aluno Matson\n",
        "print(\"1 - Nota do Matson:\", notas['Matson'])\n",
        "\n",
        "# 2 - Adicione um novo aluno chamado \"Bruna\" com a nota 8.7\n",
        "notas['Bruna'] = 8.7\n",
        "\n",
        "# 3 - Atualize a nota do aluno \"Teo\" para 9.2\n",
        "notas['Teo'] = 9.2\n",
        "\n",
        "# 4 - Verifique se o aluno \"Carlos\" está no dicionário\n",
        "print(\"4 - Carlos está no dicionário?\", 'Carlos' in notas)\n",
        "\n",
        "# 5 - Apague o aluno \"Matson\" do dicionário\n",
        "del notas['Matson']\n",
        "\n",
        "# 6 - Adicione dois novos alunos com notas à sua escolha\n",
        "notas['Lara'] = 9.5\n",
        "notas['Diego'] = 7.8\n",
        "\n",
        "# 7 - Mostre todas as chaves (nomes dos alunos)\n",
        "print(\"7 - Alunos:\", list(notas.keys()))\n",
        "\n",
        "# 8 - Mostre todos os valores (notas dos alunos)\n",
        "print(\"8 - Notas:\", list(notas.values()))\n",
        "\n",
        "# 9 - Use o método .get() para tentar buscar a nota de \"Islla\"\n",
        "print(\"9 - Nota de Islla:\", notas.get('Islla', 'Aluno não encontrado'))\n",
        "\n",
        "# 10 - Use o método .get() para tentar buscar a nota de algum aluno existente\n",
        "print(\"10 - Verificando nota de Bruna:\", \"Aluno encontrado\" if notas.get('Bruna') else \"Aluno não encontrado\")\n"
      ],
      "metadata": {
        "id": "h1CZTbYR8_Qy"
      },
      "execution_count": null,
      "outputs": []
    }
  ],
  "metadata": {
    "colab": {
      "name": "Conheça o Colab",
      "provenance": []
    },
    "kernelspec": {
      "display_name": "Python 3",
      "name": "python3"
    }
  },
  "nbformat": 4,
  "nbformat_minor": 0
}